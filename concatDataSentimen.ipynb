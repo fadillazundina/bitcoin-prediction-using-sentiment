{
  "cells": [
    {
      "cell_type": "code",
      "execution_count": 1,
      "metadata": {},
      "outputs": [],
      "source": [
        "folder_path = 'Data/Data Sentimen/Labeled Data'"
      ]
    },
    {
      "cell_type": "code",
      "execution_count": null,
      "metadata": {
        "colab": {
          "base_uri": "https://localhost:8080/",
          "height": 206
        },
        "id": "el9ZN1sv_P_5",
        "outputId": "61803a26-ae81-4705-ce4f-23eb3fc6b51e"
      },
      "outputs": [],
      "source": [
        "import os\n",
        "import pandas as pd\n",
        "\n",
        "def read_xlsx_files(folder_path):\n",
        "    dfs = []\n",
        "\n",
        "    for file_name in os.listdir(folder_path):\n",
        "        if file_name.endswith('.xlsx'):\n",
        "            file_path = os.path.join(folder_path, file_name)\n",
        "\n",
        "            df = pd.read_excel(file_path)\n",
        "\n",
        "            # Konversi kolom 'date' ke format datetime\n",
        "            if 'date' in df.columns:\n",
        "                df['date'] = pd.to_datetime(df['date'], errors='coerce', utc=True)\n",
        "            \n",
        "            dfs.append(df)\n",
        "\n",
        "    # Gabungkan semua DataFrame\n",
        "    combined_df = pd.concat(dfs, ignore_index=True)\n",
        "\n",
        "    # Hapus baris dengan nilai 'date' yang tidak valid\n",
        "    combined_df = combined_df.dropna(subset=['date'])\n",
        "\n",
        "    # Konversi ke zona waktu lokal jika diperlukan\n",
        "    combined_df['date'] = combined_df['date'].dt.tz_convert(None)\n",
        "\n",
        "    # Urutkan berdasarkan kolom 'date'\n",
        "    combined_df = combined_df.sort_values(by='date', ascending=True).reset_index(drop=True)\n",
        "\n",
        "    # Konversi kolom 'date' ke format yang lebih mudah dibaca jika diperlukan\n",
        "    combined_df['date'] = combined_df['date'].dt.strftime('%d %B %Y')\n",
        "\n",
        "    return combined_df\n",
        "\n",
        "sentimen = read_xlsx_files(folder_path)"
      ]
    },
    {
      "cell_type": "code",
      "execution_count": null,
      "metadata": {},
      "outputs": [],
      "source": [
        "sentimen.head()"
      ]
    },
    {
      "cell_type": "code",
      "execution_count": null,
      "metadata": {},
      "outputs": [],
      "source": [
        "sentimen.tail()"
      ]
    },
    {
      "cell_type": "code",
      "execution_count": 5,
      "metadata": {
        "id": "HewtMyO_FiZL"
      },
      "outputs": [],
      "source": [
        "sentimen.to_excel(\"Data/Data Sentimen/allDataSentimen.xlsx\", index=False)"
      ]
    }
  ],
  "metadata": {
    "colab": {
      "provenance": []
    },
    "kernelspec": {
      "display_name": "Python 3",
      "name": "python3"
    },
    "language_info": {
      "codemirror_mode": {
        "name": "ipython",
        "version": 3
      },
      "file_extension": ".py",
      "mimetype": "text/x-python",
      "name": "python",
      "nbconvert_exporter": "python",
      "pygments_lexer": "ipython3",
      "version": "3.12.4"
    }
  },
  "nbformat": 4,
  "nbformat_minor": 0
}
