{
  "cells": [
    {
      "cell_type": "code",
      "execution_count": 2,
      "metadata": {},
      "outputs": [],
      "source": [
        "import pandas as pd"
      ]
    },
    {
      "cell_type": "code",
      "execution_count": null,
      "metadata": {
        "colab": {
          "base_uri": "https://localhost:8080/",
          "height": 206
        },
        "id": "el9ZN1sv_P_5",
        "outputId": "377a41f1-e204-4e75-daa9-32b5552d25ae"
      },
      "outputs": [],
      "source": [
        "folder_path = 'Data/Data Google Trends/'\n",
        "\n",
        "dataframes = []\n",
        "\n",
        "for i in range(4):\n",
        "    filename = f'multiTimeline'\n",
        "    if i != 0:\n",
        "        filename += f'({i}).csv'\n",
        "    else:\n",
        "        filename += f'.csv'\n",
        "    df = pd.read_csv(folder_path + filename, skiprows=1)\n",
        "    dataframes.append(df) \n",
        "\n",
        "combined_df = pd.concat(dataframes)\n",
        "combined_df = combined_df.rename(columns={'Hari': 'hari', 'bitcoin price: (Seluruh dunia)': 'volume'})\n",
        "\n",
        "combined_df"
      ]
    },
    {
      "cell_type": "code",
      "execution_count": null,
      "metadata": {},
      "outputs": [],
      "source": [
        "len(combined_df)"
      ]
    },
    {
      "cell_type": "code",
      "execution_count": 5,
      "metadata": {
        "id": "HewtMyO_FiZL"
      },
      "outputs": [],
      "source": [
        "combined_df.to_csv(\"Data/Data Google Trends/merged_gtrends.csv\", index=False)"
      ]
    }
  ],
  "metadata": {
    "colab": {
      "provenance": []
    },
    "kernelspec": {
      "display_name": "Python 3",
      "name": "python3"
    },
    "language_info": {
      "codemirror_mode": {
        "name": "ipython",
        "version": 3
      },
      "file_extension": ".py",
      "mimetype": "text/x-python",
      "name": "python",
      "nbconvert_exporter": "python",
      "pygments_lexer": "ipython3",
      "version": "3.12.4"
    }
  },
  "nbformat": 4,
  "nbformat_minor": 0
}
