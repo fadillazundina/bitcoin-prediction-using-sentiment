{
 "cells": [
  {
   "cell_type": "markdown",
   "metadata": {
    "id": "u30sMG2KTiqF"
   },
   "source": [
    "# DATA SENTIMEN"
   ]
  },
  {
   "cell_type": "code",
   "execution_count": 130,
   "metadata": {
    "executionInfo": {
     "elapsed": 4634,
     "status": "ok",
     "timestamp": 1718222458911,
     "user": {
      "displayName": "FADILLA ZUNDINA 'ULYA",
      "userId": "11381934595125120993"
     },
     "user_tz": -420
    },
    "id": "AdzyI64nOFL6"
   },
   "outputs": [],
   "source": [
    "import pandas as pd\n",
    "tweets = pd.read_excel('Data/Data Sentimen/Labeled Data/labelled-validation.xlsx')"
   ]
  },
  {
   "cell_type": "code",
   "execution_count": null,
   "metadata": {
    "colab": {
     "base_uri": "https://localhost:8080/",
     "height": 206
    },
    "executionInfo": {
     "elapsed": 3291,
     "status": "ok",
     "timestamp": 1718222462196,
     "user": {
      "displayName": "FADILLA ZUNDINA 'ULYA",
      "userId": "11381934595125120993"
     },
     "user_tz": -420
    },
    "id": "_fTpTdNKO61g",
    "outputId": "43871ff2-facc-4b9e-800a-a79f976f2c27"
   },
   "outputs": [],
   "source": [
    "tweets.head()"
   ]
  },
  {
   "cell_type": "code",
   "execution_count": null,
   "metadata": {
    "colab": {
     "base_uri": "https://localhost:8080/"
    },
    "executionInfo": {
     "elapsed": 28,
     "status": "ok",
     "timestamp": 1718222462196,
     "user": {
      "displayName": "FADILLA ZUNDINA 'ULYA",
      "userId": "11381934595125120993"
     },
     "user_tz": -420
    },
    "id": "sDM5INJucea-",
    "outputId": "831b3a54-f1fd-49c5-d291-49eeab23c807"
   },
   "outputs": [],
   "source": [
    "tweets.info()"
   ]
  },
  {
   "cell_type": "code",
   "execution_count": null,
   "metadata": {
    "colab": {
     "base_uri": "https://localhost:8080/",
     "height": 206
    },
    "executionInfo": {
     "elapsed": 23,
     "status": "ok",
     "timestamp": 1718222462197,
     "user": {
      "displayName": "FADILLA ZUNDINA 'ULYA",
      "userId": "11381934595125120993"
     },
     "user_tz": -420
    },
    "id": "zIKiQrzWPThl",
    "outputId": "fca79a85-8b73-46bb-fa3d-be83a56bafab"
   },
   "outputs": [],
   "source": [
    "tweets.tail()"
   ]
  },
  {
   "cell_type": "code",
   "execution_count": null,
   "metadata": {},
   "outputs": [],
   "source": [
    "tweets['date'] = pd.to_datetime(tweets['date'])\n",
    "\n",
    "sentiment_counts = tweets.groupby([tweets['date'].dt.date, 'labels']).size().unstack(fill_value=0)\n",
    "\n",
    "sentiment_counts.reset_index(inplace=True)\n",
    "\n",
    "sentiment_counts.columns.name = None \n",
    "sentiment_counts.columns = ['date', 'negatif', 'netral', 'positif']\n",
    "\n",
    "sentiment_counts['total'] = sentiment_counts['negatif'] + sentiment_counts['netral'] + sentiment_counts['positif']\n",
    "\n",
    "sentiment_counts['date'] = pd.to_datetime(sentiment_counts['date']).dt.strftime('%Y-%m-%d')"
   ]
  },
  {
   "cell_type": "code",
   "execution_count": null,
   "metadata": {
    "colab": {
     "base_uri": "https://localhost:8080/",
     "height": 423
    },
    "executionInfo": {
     "elapsed": 13,
     "status": "ok",
     "timestamp": 1718222464405,
     "user": {
      "displayName": "FADILLA ZUNDINA 'ULYA",
      "userId": "11381934595125120993"
     },
     "user_tz": -420
    },
    "id": "7onQGtVlJcW1",
    "outputId": "2a669166-f4ef-4326-e0b3-06224e622d88"
   },
   "outputs": [],
   "source": [
    "sentiment_counts.head(50)"
   ]
  },
  {
   "cell_type": "code",
   "execution_count": null,
   "metadata": {},
   "outputs": [],
   "source": [
    "sentiment_counts[sentiment_counts['negatif'] == sentiment_counts['positif']]"
   ]
  },
  {
   "cell_type": "code",
   "execution_count": null,
   "metadata": {
    "colab": {
     "base_uri": "https://localhost:8080/",
     "height": 442
    },
    "executionInfo": {
     "elapsed": 1249,
     "status": "ok",
     "timestamp": 1718222465646,
     "user": {
      "displayName": "FADILLA ZUNDINA 'ULYA",
      "userId": "11381934595125120993"
     },
     "user_tz": -420
    },
    "id": "nByJliYVRUPt",
    "outputId": "18bb301c-cc52-4ade-9164-9735122040b6"
   },
   "outputs": [],
   "source": [
    "# Plot\n",
    "import matplotlib.pyplot as plt\n",
    "\n",
    "dates = sentiment_counts.index\n",
    "negatif = sentiment_counts['negatif']\n",
    "netral = sentiment_counts['netral']\n",
    "positif = sentiment_counts['positif']\n",
    "\n",
    "plt.figure(figsize=(12, 6))\n",
    "plt.plot(dates, negatif, label='Negatif', color='red')\n",
    "plt.plot(dates, netral, label='Netral', color='blue')\n",
    "plt.plot(dates, positif, label='Positif', color='green')\n",
    "\n",
    "plt.xlabel('Tanggal')\n",
    "plt.ylabel('Jumlah Sentimen')\n",
    "plt.title('Perbandingan Jumlah Sentimen')\n",
    "plt.legend()\n",
    "plt.xticks(rotation=45)\n",
    "plt.tight_layout()\n",
    "plt.show()"
   ]
  },
  {
   "cell_type": "code",
   "execution_count": 138,
   "metadata": {
    "executionInfo": {
     "elapsed": 19,
     "status": "ok",
     "timestamp": 1718222465646,
     "user": {
      "displayName": "FADILLA ZUNDINA 'ULYA",
      "userId": "11381934595125120993"
     },
     "user_tz": -420
    },
    "id": "YZ_qfbonX5Nh"
   },
   "outputs": [],
   "source": [
    "def determine_sentiment(row):\n",
    "    if row['negatif'] > 0 and row['positif'] == 0 and row['netral'] == 0:\n",
    "        return 'negatif'\n",
    "    elif row['positif'] > 0 and row['negatif'] == 0 and row['netral'] == 0:\n",
    "        return 'positif'\n",
    "    elif row['netral'] > 0:\n",
    "        if row['negatif'] > 0 and row['positif'] > 0:\n",
    "            if row['negatif'] > row['positif']:\n",
    "                return 'negatif'\n",
    "            elif row['positif'] > row['negatif']:\n",
    "                return 'positif'\n",
    "            else:\n",
    "                return 'netral'\n",
    "        elif row['negatif'] > 0:\n",
    "            return 'negatif'\n",
    "        elif row['positif'] > 0:\n",
    "            return 'positif'\n",
    "        else:\n",
    "            return 'netral'\n",
    "    elif row['negatif'] > 0 and row['positif'] == 0:\n",
    "        return 'negatif'\n",
    "    elif row['positif'] > 0 and row['negatif'] == 0:\n",
    "        return 'positif'\n",
    "    else:\n",
    "        return 'netral'\n",
    "\n",
    "# Apply the function to each row\n",
    "sentiment_counts['Sentimen'] = sentiment_counts.apply(determine_sentiment, axis=1)"
   ]
  },
  {
   "cell_type": "code",
   "execution_count": null,
   "metadata": {
    "colab": {
     "base_uri": "https://localhost:8080/",
     "height": 423
    },
    "executionInfo": {
     "elapsed": 19,
     "status": "ok",
     "timestamp": 1718222465647,
     "user": {
      "displayName": "FADILLA ZUNDINA 'ULYA",
      "userId": "11381934595125120993"
     },
     "user_tz": -420
    },
    "id": "eTsZdRWmaTwk",
    "outputId": "3d1adac5-7334-4677-8684-937248853e40"
   },
   "outputs": [],
   "source": [
    "sentiment_counts.head(50)"
   ]
  },
  {
   "cell_type": "code",
   "execution_count": null,
   "metadata": {},
   "outputs": [],
   "source": [
    "sentiment_counts['Sentimen'].value_counts()"
   ]
  },
  {
   "cell_type": "code",
   "execution_count": null,
   "metadata": {},
   "outputs": [],
   "source": [
    "dataset_sentimen = sentiment_counts[['date', 'Sentimen']]\n",
    "dataset_sentimen.tail()"
   ]
  },
  {
   "cell_type": "code",
   "execution_count": 142,
   "metadata": {
    "executionInfo": {
     "elapsed": 19,
     "status": "ok",
     "timestamp": 1718222465649,
     "user": {
      "displayName": "FADILLA ZUNDINA 'ULYA",
      "userId": "11381934595125120993"
     },
     "user_tz": -420
    },
    "id": "wPZbQ80XRgqt"
   },
   "outputs": [],
   "source": [
    "dataset_sentimen.to_excel('Data/Data Sentimen/dataset_sentimen_validation.xlsx', index=False)"
   ]
  },
  {
   "cell_type": "markdown",
   "metadata": {
    "id": "iIHF-JbhTrAa"
   },
   "source": [
    "# GOOGLE TRENDS"
   ]
  },
  {
   "cell_type": "code",
   "execution_count": null,
   "metadata": {
    "colab": {
     "base_uri": "https://localhost:8080/",
     "height": 206
    },
    "executionInfo": {
     "elapsed": 383,
     "status": "ok",
     "timestamp": 1718222476353,
     "user": {
      "displayName": "FADILLA ZUNDINA 'ULYA",
      "userId": "11381934595125120993"
     },
     "user_tz": -420
    },
    "id": "PpNnfN8QRuWF",
    "outputId": "6c11f3d5-168a-4933-cd32-556e8209b6c5"
   },
   "outputs": [],
   "source": [
    "gtrend = pd.read_csv('Data/Data Google Trends/Validation.csv')\n",
    "gtrend.tail()"
   ]
  },
  {
   "cell_type": "code",
   "execution_count": null,
   "metadata": {
    "colab": {
     "base_uri": "https://localhost:8080/",
     "height": 206
    },
    "executionInfo": {
     "elapsed": 478,
     "status": "ok",
     "timestamp": 1718222478712,
     "user": {
      "displayName": "FADILLA ZUNDINA 'ULYA",
      "userId": "11381934595125120993"
     },
     "user_tz": -420
    },
    "id": "p6bP3QViSlbJ",
    "outputId": "b71558eb-b570-4afb-aca3-dbb687e90c1d"
   },
   "outputs": [],
   "source": [
    "sentimen = pd.read_excel('Data/Data Sentimen/dataset_sentimen_validation.xlsx')\n",
    "sentimen.tail()"
   ]
  },
  {
   "cell_type": "code",
   "execution_count": null,
   "metadata": {
    "colab": {
     "base_uri": "https://localhost:8080/"
    },
    "executionInfo": {
     "elapsed": 356,
     "status": "ok",
     "timestamp": 1718222483866,
     "user": {
      "displayName": "FADILLA ZUNDINA 'ULYA",
      "userId": "11381934595125120993"
     },
     "user_tz": -420
    },
    "id": "fnqq-2DFS_jX",
    "outputId": "876db182-91dc-4ca8-86f3-887556fb9152"
   },
   "outputs": [],
   "source": [
    "len(sentiment_counts)"
   ]
  },
  {
   "cell_type": "code",
   "execution_count": null,
   "metadata": {
    "colab": {
     "base_uri": "https://localhost:8080/"
    },
    "executionInfo": {
     "elapsed": 4,
     "status": "ok",
     "timestamp": 1718222485321,
     "user": {
      "displayName": "FADILLA ZUNDINA 'ULYA",
      "userId": "11381934595125120993"
     },
     "user_tz": -420
    },
    "id": "XsXoXyqwTVfr",
    "outputId": "10a7f277-fa8a-4671-ce30-ad1b4d5c554d"
   },
   "outputs": [],
   "source": [
    "len(gtrend)"
   ]
  },
  {
   "cell_type": "code",
   "execution_count": null,
   "metadata": {
    "colab": {
     "base_uri": "https://localhost:8080/",
     "height": 599
    },
    "executionInfo": {
     "elapsed": 646,
     "status": "ok",
     "timestamp": 1718222486382,
     "user": {
      "displayName": "FADILLA ZUNDINA 'ULYA",
      "userId": "11381934595125120993"
     },
     "user_tz": -420
    },
    "id": "t5_CaLavTxZv",
    "outputId": "910dcaa5-c6bc-4c7d-b7a9-c6487446d53c"
   },
   "outputs": [],
   "source": [
    "import matplotlib.pyplot as plt\n",
    "\n",
    "plt.plot(gtrend['volume'])\n",
    "plt.show"
   ]
  },
  {
   "cell_type": "markdown",
   "metadata": {
    "id": "0z_Fb0gaT9gm"
   },
   "source": [
    "# GABUNGKAN SENTIMEN & GOOGLE TRENDS"
   ]
  },
  {
   "cell_type": "code",
   "execution_count": null,
   "metadata": {
    "colab": {
     "base_uri": "https://localhost:8080/"
    },
    "executionInfo": {
     "elapsed": 10,
     "status": "ok",
     "timestamp": 1718222487460,
     "user": {
      "displayName": "FADILLA ZUNDINA 'ULYA",
      "userId": "11381934595125120993"
     },
     "user_tz": -420
    },
    "id": "fqLF1rnKUIME",
    "outputId": "e8e0407c-8401-45c8-c8ab-209d12ad482f"
   },
   "outputs": [],
   "source": [
    "sentimen.dtypes"
   ]
  },
  {
   "cell_type": "code",
   "execution_count": null,
   "metadata": {
    "colab": {
     "base_uri": "https://localhost:8080/"
    },
    "executionInfo": {
     "elapsed": 10,
     "status": "ok",
     "timestamp": 1718222493759,
     "user": {
      "displayName": "FADILLA ZUNDINA 'ULYA",
      "userId": "11381934595125120993"
     },
     "user_tz": -420
    },
    "id": "5WZS0VgOUbrM",
    "outputId": "269e50e1-0308-4029-d6bd-230b2ef39809"
   },
   "outputs": [],
   "source": [
    "gtrend.dtypes"
   ]
  },
  {
   "cell_type": "code",
   "execution_count": 154,
   "metadata": {
    "executionInfo": {
     "elapsed": 6,
     "status": "ok",
     "timestamp": 1718222495523,
     "user": {
      "displayName": "FADILLA ZUNDINA 'ULYA",
      "userId": "11381934595125120993"
     },
     "user_tz": -420
    },
    "id": "BgSk0O3xUBnI"
   },
   "outputs": [],
   "source": [
    "sentimen['date'] = pd.to_datetime(sentimen['date'])\n",
    "gtrend['hari'] = pd.to_datetime(gtrend['hari'])"
   ]
  },
  {
   "cell_type": "code",
   "execution_count": null,
   "metadata": {},
   "outputs": [],
   "source": [
    "sentimen.dtypes"
   ]
  },
  {
   "cell_type": "code",
   "execution_count": null,
   "metadata": {},
   "outputs": [],
   "source": [
    "gtrend.dtypes"
   ]
  },
  {
   "cell_type": "code",
   "execution_count": 157,
   "metadata": {
    "executionInfo": {
     "elapsed": 4,
     "status": "ok",
     "timestamp": 1718222496952,
     "user": {
      "displayName": "FADILLA ZUNDINA 'ULYA",
      "userId": "11381934595125120993"
     },
     "user_tz": -420
    },
    "id": "S3tSjS-KUGfo"
   },
   "outputs": [],
   "source": [
    "sentimen_gtrend = pd.concat([sentimen, gtrend], axis=1)"
   ]
  },
  {
   "cell_type": "code",
   "execution_count": null,
   "metadata": {
    "colab": {
     "base_uri": "https://localhost:8080/",
     "height": 423
    },
    "executionInfo": {
     "elapsed": 38,
     "status": "ok",
     "timestamp": 1718222497627,
     "user": {
      "displayName": "FADILLA ZUNDINA 'ULYA",
      "userId": "11381934595125120993"
     },
     "user_tz": -420
    },
    "id": "h8cVO_rEUmKD",
    "outputId": "511f8472-f9e4-4c51-b173-13c0ebfa6236"
   },
   "outputs": [],
   "source": [
    "sentimen_gtrend"
   ]
  },
  {
   "cell_type": "code",
   "execution_count": 159,
   "metadata": {
    "executionInfo": {
     "elapsed": 30,
     "status": "ok",
     "timestamp": 1718222504765,
     "user": {
      "displayName": "FADILLA ZUNDINA 'ULYA",
      "userId": "11381934595125120993"
     },
     "user_tz": -420
    },
    "id": "J_NyA8-q2vB8"
   },
   "outputs": [],
   "source": [
    "sentimen_gtrend = sentimen_gtrend.drop(columns='hari')"
   ]
  },
  {
   "cell_type": "code",
   "execution_count": 160,
   "metadata": {
    "executionInfo": {
     "elapsed": 10,
     "status": "ok",
     "timestamp": 1718222505198,
     "user": {
      "displayName": "FADILLA ZUNDINA 'ULYA",
      "userId": "11381934595125120993"
     },
     "user_tz": -420
    },
    "id": "4jiMYR7LWWt5"
   },
   "outputs": [],
   "source": [
    "sentimen_gtrend = sentimen_gtrend.rename(columns={'volume': 'Index'})"
   ]
  },
  {
   "cell_type": "code",
   "execution_count": null,
   "metadata": {
    "colab": {
     "base_uri": "https://localhost:8080/",
     "height": 423
    },
    "executionInfo": {
     "elapsed": 38,
     "status": "ok",
     "timestamp": 1718222505616,
     "user": {
      "displayName": "FADILLA ZUNDINA 'ULYA",
      "userId": "11381934595125120993"
     },
     "user_tz": -420
    },
    "id": "zfKrIqDkWekn",
    "outputId": "04d789fc-86fe-4e4f-8d58-1d14332f29d2"
   },
   "outputs": [],
   "source": [
    "sentimen_gtrend"
   ]
  },
  {
   "cell_type": "code",
   "execution_count": null,
   "metadata": {
    "colab": {
     "base_uri": "https://localhost:8080/"
    },
    "executionInfo": {
     "elapsed": 32,
     "status": "ok",
     "timestamp": 1718222507438,
     "user": {
      "displayName": "FADILLA ZUNDINA 'ULYA",
      "userId": "11381934595125120993"
     },
     "user_tz": -420
    },
    "id": "Y3jd1OTyWgK7",
    "outputId": "9c2b6daf-8a94-49e1-f7e7-4be69b7ca0d9"
   },
   "outputs": [],
   "source": [
    "sentimen_gtrend.dtypes"
   ]
  },
  {
   "cell_type": "code",
   "execution_count": null,
   "metadata": {
    "colab": {
     "base_uri": "https://localhost:8080/"
    },
    "executionInfo": {
     "elapsed": 25,
     "status": "ok",
     "timestamp": 1718222508741,
     "user": {
      "displayName": "FADILLA ZUNDINA 'ULYA",
      "userId": "11381934595125120993"
     },
     "user_tz": -420
    },
    "id": "hw6Ai7KWWlWs",
    "outputId": "f6c6b41c-6955-45d7-cfc1-48b4ee2a49de"
   },
   "outputs": [],
   "source": [
    "sentimen_gtrend.info()"
   ]
  },
  {
   "cell_type": "markdown",
   "metadata": {
    "id": "jwYsjBm7Wvrr"
   },
   "source": [
    "# PRICE DATA"
   ]
  },
  {
   "cell_type": "code",
   "execution_count": null,
   "metadata": {
    "colab": {
     "base_uri": "https://localhost:8080/",
     "height": 206
    },
    "executionInfo": {
     "elapsed": 1023,
     "status": "ok",
     "timestamp": 1718222512908,
     "user": {
      "displayName": "FADILLA ZUNDINA 'ULYA",
      "userId": "11381934595125120993"
     },
     "user_tz": -420
    },
    "id": "p2Ni4RnkWpBA",
    "outputId": "027c23eb-6564-46cd-cf10-a32b79642a14"
   },
   "outputs": [],
   "source": [
    "price = pd.read_csv('../Data/Data Historis Bitcoin/Validation.csv')\n",
    "price.head()"
   ]
  },
  {
   "cell_type": "code",
   "execution_count": null,
   "metadata": {
    "colab": {
     "base_uri": "https://localhost:8080/"
    },
    "executionInfo": {
     "elapsed": 26,
     "status": "ok",
     "timestamp": 1718222513644,
     "user": {
      "displayName": "FADILLA ZUNDINA 'ULYA",
      "userId": "11381934595125120993"
     },
     "user_tz": -420
    },
    "id": "hzTrbxOCXAZ5",
    "outputId": "bb1d036a-e8b9-4215-9dd0-6f0b162b9439"
   },
   "outputs": [],
   "source": [
    "price.dtypes"
   ]
  },
  {
   "cell_type": "code",
   "execution_count": 166,
   "metadata": {
    "executionInfo": {
     "elapsed": 7,
     "status": "ok",
     "timestamp": 1718222514601,
     "user": {
      "displayName": "FADILLA ZUNDINA 'ULYA",
      "userId": "11381934595125120993"
     },
     "user_tz": -420
    },
    "id": "XeYDFcHsXELy"
   },
   "outputs": [],
   "source": [
    "price['Date'] = pd.to_datetime(price['Date'])"
   ]
  },
  {
   "cell_type": "code",
   "execution_count": null,
   "metadata": {
    "colab": {
     "base_uri": "https://localhost:8080/"
    },
    "executionInfo": {
     "elapsed": 11,
     "status": "ok",
     "timestamp": 1718222515569,
     "user": {
      "displayName": "FADILLA ZUNDINA 'ULYA",
      "userId": "11381934595125120993"
     },
     "user_tz": -420
    },
    "id": "j2Hpa8QqXGQH",
    "outputId": "70ea4480-69a4-457e-e469-90036e5b5a23"
   },
   "outputs": [],
   "source": [
    "price.dtypes"
   ]
  },
  {
   "cell_type": "code",
   "execution_count": null,
   "metadata": {
    "colab": {
     "base_uri": "https://localhost:8080/",
     "height": 206
    },
    "executionInfo": {
     "elapsed": 10,
     "status": "ok",
     "timestamp": 1718222520382,
     "user": {
      "displayName": "FADILLA ZUNDINA 'ULYA",
      "userId": "11381934595125120993"
     },
     "user_tz": -420
    },
    "id": "0Pz80MHwXPhr",
    "outputId": "46eae0de-c181-4248-f37d-8e66ff9210b6"
   },
   "outputs": [],
   "source": [
    "price.tail()"
   ]
  },
  {
   "cell_type": "code",
   "execution_count": 169,
   "metadata": {
    "executionInfo": {
     "elapsed": 4,
     "status": "ok",
     "timestamp": 1718222521729,
     "user": {
      "displayName": "FADILLA ZUNDINA 'ULYA",
      "userId": "11381934595125120993"
     },
     "user_tz": -420
    },
    "id": "uJ6YGmE9XTlb"
   },
   "outputs": [],
   "source": [
    "all_data = pd.concat([price, sentimen_gtrend], axis=1)"
   ]
  },
  {
   "cell_type": "code",
   "execution_count": null,
   "metadata": {
    "colab": {
     "base_uri": "https://localhost:8080/",
     "height": 313
    },
    "executionInfo": {
     "elapsed": 13,
     "status": "ok",
     "timestamp": 1718222523150,
     "user": {
      "displayName": "FADILLA ZUNDINA 'ULYA",
      "userId": "11381934595125120993"
     },
     "user_tz": -420
    },
    "id": "rQRHNxOUXeLw",
    "outputId": "e9f45837-1ab6-448b-d584-43f0c5d86139"
   },
   "outputs": [],
   "source": [
    "all_data.tail()"
   ]
  },
  {
   "cell_type": "code",
   "execution_count": 171,
   "metadata": {
    "executionInfo": {
     "elapsed": 6,
     "status": "ok",
     "timestamp": 1718222525498,
     "user": {
      "displayName": "FADILLA ZUNDINA 'ULYA",
      "userId": "11381934595125120993"
     },
     "user_tz": -420
    },
    "id": "7P8tHURIXrC0"
   },
   "outputs": [],
   "source": [
    "all_data = all_data.drop(columns = 'date')"
   ]
  },
  {
   "cell_type": "code",
   "execution_count": null,
   "metadata": {
    "colab": {
     "base_uri": "https://localhost:8080/",
     "height": 313
    },
    "executionInfo": {
     "elapsed": 356,
     "status": "ok",
     "timestamp": 1718222530822,
     "user": {
      "displayName": "FADILLA ZUNDINA 'ULYA",
      "userId": "11381934595125120993"
     },
     "user_tz": -420
    },
    "id": "i0O54bAZ5S_5",
    "outputId": "c2647e3f-59f5-409f-8148-618d5d13c141"
   },
   "outputs": [],
   "source": [
    "all_data.tail()"
   ]
  },
  {
   "cell_type": "code",
   "execution_count": 173,
   "metadata": {
    "executionInfo": {
     "elapsed": 383,
     "status": "ok",
     "timestamp": 1718222539996,
     "user": {
      "displayName": "FADILLA ZUNDINA 'ULYA",
      "userId": "11381934595125120993"
     },
     "user_tz": -420
    },
    "id": "-3Of0s3E5dNs"
   },
   "outputs": [],
   "source": [
    "columns = list(all_data.columns)\n",
    "columns.remove('Close')  \n",
    "columns.append('Close')  \n",
    "all_data = all_data[columns] "
   ]
  },
  {
   "cell_type": "code",
   "execution_count": null,
   "metadata": {
    "colab": {
     "base_uri": "https://localhost:8080/",
     "height": 617
    },
    "executionInfo": {
     "elapsed": 368,
     "status": "ok",
     "timestamp": 1718222542387,
     "user": {
      "displayName": "FADILLA ZUNDINA 'ULYA",
      "userId": "11381934595125120993"
     },
     "user_tz": -420
    },
    "id": "KUiOXOxa5rTL",
    "outputId": "db644210-4103-4ada-bb69-b834cfe5744c"
   },
   "outputs": [],
   "source": [
    "all_data"
   ]
  },
  {
   "cell_type": "code",
   "execution_count": 175,
   "metadata": {
    "executionInfo": {
     "elapsed": 526,
     "status": "ok",
     "timestamp": 1718222547942,
     "user": {
      "displayName": "FADILLA ZUNDINA 'ULYA",
      "userId": "11381934595125120993"
     },
     "user_tz": -420
    },
    "id": "eElqST-A5szv"
   },
   "outputs": [],
   "source": [
    "all_data = all_data.rename(columns={'Adj Close': 'Adj_Close'})"
   ]
  },
  {
   "cell_type": "code",
   "execution_count": null,
   "metadata": {
    "colab": {
     "base_uri": "https://localhost:8080/",
     "height": 617
    },
    "executionInfo": {
     "elapsed": 8,
     "status": "ok",
     "timestamp": 1718222549409,
     "user": {
      "displayName": "FADILLA ZUNDINA 'ULYA",
      "userId": "11381934595125120993"
     },
     "user_tz": -420
    },
    "id": "WmA_z_Ow6FqH",
    "outputId": "f115ed7c-226c-4259-c5ad-a94afea5eb05"
   },
   "outputs": [],
   "source": [
    "all_data"
   ]
  },
  {
   "cell_type": "code",
   "execution_count": 177,
   "metadata": {
    "executionInfo": {
     "elapsed": 354,
     "status": "ok",
     "timestamp": 1718222575461,
     "user": {
      "displayName": "FADILLA ZUNDINA 'ULYA",
      "userId": "11381934595125120993"
     },
     "user_tz": -420
    },
    "id": "Z3F8dmRJ6G83"
   },
   "outputs": [],
   "source": [
    "all_data.to_excel('Data/all_data_validation.xlsx', index=False)"
   ]
  }
 ],
 "metadata": {
  "colab": {
   "authorship_tag": "ABX9TyPTBB401DJ7Z1kKUFAk7tXr",
   "provenance": []
  },
  "kernelspec": {
   "display_name": "Python 3",
   "name": "python3"
  },
  "language_info": {
   "codemirror_mode": {
    "name": "ipython",
    "version": 3
   },
   "file_extension": ".py",
   "mimetype": "text/x-python",
   "name": "python",
   "nbconvert_exporter": "python",
   "pygments_lexer": "ipython3",
   "version": "3.12.4"
  }
 },
 "nbformat": 4,
 "nbformat_minor": 0
}
